{
 "cells": [
  {
   "cell_type": "code",
   "execution_count": 1,
   "id": "03da58af",
   "metadata": {},
   "outputs": [],
   "source": [
    "import pandas as pd\n",
    "import numpy as np\n",
    "import matplotlib.pyplot as plt\n",
    "import seaborn as sns"
   ]
  },
  {
   "cell_type": "code",
   "execution_count": 3,
   "id": "102e12b8",
   "metadata": {},
   "outputs": [],
   "source": [
    "csv_data = \"spain_temperatures.csv\""
   ]
  },
  {
   "cell_type": "code",
   "execution_count": 4,
   "id": "5e933503",
   "metadata": {},
   "outputs": [],
   "source": [
    "df = pd.read_csv(csv_data)"
   ]
  },
  {
   "cell_type": "code",
   "execution_count": 47,
   "id": "64b6ff21",
   "metadata": {},
   "outputs": [],
   "source": [
    "df = (df[(df[\"nombre\"]==\"SANTANDER\")&(df[\"horatmin\"]!='Varias')]\n",
    " .drop(columns=[\n",
    "     \"Unnamed: 0\",\"indicativo\", \"altitud\", \"dir\", \"presMax\", \"horaPresMax\", \"presMin\", \"horaPresMin\"])\n",
    " .replace(\",\",\".\", regex=True)\n",
    " .dropna()\n",
    " .assign(\n",
    "     fecha = pd.to_datetime(df[\"fecha\"])\n",
    "#     ,horatmin = pd.to_datetime(df[\"horatmin\"])\n",
    "       )\n",
    ")\n",
    "\n",
    "                               \n",
    "                               \n",
    "                        "
   ]
  },
  {
   "cell_type": "code",
   "execution_count": 48,
   "id": "3865ccc8",
   "metadata": {},
   "outputs": [
    {
     "name": "stdout",
     "output_type": "stream",
     "text": [
      "{'fecha': {0: Timestamp('2016-12-01 00:00:00'), 1: Timestamp('2016-12-02 00:00:00'), 2: Timestamp('2016-12-03 00:00:00'), 3: Timestamp('2016-12-04 00:00:00'), 4: Timestamp('2016-12-05 00:00:00')}, 'nombre': {0: 'SANTANDER', 1: 'SANTANDER', 2: 'SANTANDER', 3: 'SANTANDER', 4: 'SANTANDER'}, 'provincia': {0: 'CANTABRIA', 1: 'CANTABRIA', 2: 'CANTABRIA', 3: 'CANTABRIA', 4: 'CANTABRIA'}, 'tmed': {0: '15.0', 1: '12.6', 2: '12.8', 3: '14.9', 4: '18.1'}, 'prec': {0: '0.0', 1: '0.0', 2: '0.0', 3: '0.0', 4: '0.0'}, 'tmin': {0: '12.2', 1: '9.5', 2: '9.0', 3: '11.0', 4: '15.0'}, 'horatmin': {0: '23:20', 1: '23:59', 2: '05:05', 3: '00:40', 4: '07:55'}, 'tmax': {0: '17.8', 1: '15.6', 2: '16.6', 3: '18.8', 4: '21.2'}, 'horatmax': {0: '12:55', 1: '12:30', 2: '14:05', 3: '12:20', 4: '13:15'}, 'velmedia': {0: '3.3', 1: '2.2', 2: '1.9', 3: '5.6', 4: '2.8'}, 'racha': {0: '10.6', 1: '5.3', 2: '7.8', 3: '12.5', 4: '10.0'}, 'horaracha': {0: '03:08', 1: '07:15', 2: '21:03', 3: '03:50', 4: '01:38'}, 'sol': {0: '8.3', 1: '8.5', 2: '7.9', 3: '2.4', 4: '4.8'}}\n"
     ]
    }
   ],
   "source": [
    "print(df.head().to_dict())"
   ]
  },
  {
   "cell_type": "code",
   "execution_count": null,
   "id": "e17b42eb",
   "metadata": {},
   "outputs": [],
   "source": []
  }
 ],
 "metadata": {
  "kernelspec": {
   "display_name": "Python 3",
   "language": "python",
   "name": "python3"
  },
  "language_info": {
   "codemirror_mode": {
    "name": "ipython",
    "version": 3
   },
   "file_extension": ".py",
   "mimetype": "text/x-python",
   "name": "python",
   "nbconvert_exporter": "python",
   "pygments_lexer": "ipython3",
   "version": "3.8.8"
  }
 },
 "nbformat": 4,
 "nbformat_minor": 5
}
